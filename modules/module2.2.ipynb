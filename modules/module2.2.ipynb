{
 "cells": [
  {
   "cell_type": "code",
   "execution_count": null,
   "metadata": {},
   "outputs": [],
   "source": [
    "#module 2.2 \n",
    "\n",
    "import pandas as pd\n",
    "import numpy as np\n",
    "from matplotlib_venn import venn3\n",
    "import matplotlib.pyplot as plt\n",
    "\n",
    "\n",
    "KEGG_df = pd.read_csv(\"../Files/Figure2/Table3.csv\",index_col=0)\n",
    "\n",
    "\n",
    "def generate_pmid_set(df):\n",
    "    pmid_set = set()\n",
    "    for line in df.itertuples():\n",
    "       st = set([f\"{x:.0f}\" for x in line[12:] if pd.isnull(x) == False and x != \"nan\"])#retrieve pmid (after index 12)\n",
    "       pmid_set.update(st)#update\n",
    "    return pmid_set\n",
    "\n",
    "def grouping(df,i,j):\n",
    "    df1 = df[df[\"Amounts\"]<i]\n",
    "    df2 = df[(df[\"Amounts\"]>=i)&(df[\"Amounts\"]<j)]\n",
    "    df3 = df[df[\"Amounts\"]>=j]\n",
    "    return df1, df2, df3\n",
    "\n",
    "df1,df2,df3 = grouping(KEGG_df,10,100)\n",
    "display(df1)\n",
    "display(df2)\n",
    "display(df3)\n",
    "dic = {}\n",
    "for i,df in enumerate([df1,df2,df3]):\n",
    "    dic[i]=generate_pmid_set(df)\n",
    "\n",
    "print(\"minor\")\n",
    "print(dic[0])\n",
    "print(len(dic[0]))\n",
    "print(\"=========\")\n",
    "print(\"moderate\")\n",
    "print(dic[1])\n",
    "print(len(dic[1]))\n",
    "print(\"=========\")\n",
    "print(\"major\")\n",
    "print(dic[2])\n",
    "print(len(dic[2]))\n",
    "print(\"=========\")\n",
    "\n",
    "total = len(set(dic[0]|dic[1]|dic[2]))\n",
    "print(\"total size; \",str(total))\n",
    "plt.figure(figsize=(5,5))\n",
    "venn3([dic[0],dic[1],dic[2]])\n",
    "plt.savefig(\"../Files/Figure2/Figure 2C.png\",format=\"png\",dpi=500)"
   ]
  }
 ],
 "metadata": {
  "kernelspec": {
   "display_name": "base",
   "language": "python",
   "name": "python3"
  },
  "language_info": {
   "codemirror_mode": {
    "name": "ipython",
    "version": 3
   },
   "file_extension": ".py",
   "mimetype": "text/x-python",
   "name": "python",
   "nbconvert_exporter": "python",
   "pygments_lexer": "ipython3",
   "version": "3.9.12"
  },
  "orig_nbformat": 4
 },
 "nbformat": 4,
 "nbformat_minor": 2
}
