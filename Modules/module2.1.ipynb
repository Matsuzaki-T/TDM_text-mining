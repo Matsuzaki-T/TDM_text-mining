{
 "cells": [
  {
   "cell_type": "code",
   "execution_count": null,
   "id": "239e8079",
   "metadata": {},
   "outputs": [],
   "source": [
    "#module 2.1 efficacy-pmid\n",
    "import pandas as pd\n",
    "\n",
    "df_complete = pd.read_csv(\"../Files/Figure2/Table3.csv\",index_col=0)\n",
    "\n",
    "display(df_complete)\n",
    "def generate_efficacy_set(df):\n",
    "    efficacy_set = set()\n",
    "    #get efficacy columns\n",
    "    column_list = list(df.columns.values)#list of columns\n",
    "    efficacy_list = [i for i in column_list if \"efficacy\" in i]\n",
    "    df_efficacy = df[efficacy_list]\n",
    "    #retrieving efficacy from each line in df_efficacy\n",
    "    for index, efficacy in df_efficacy.iterrows():\n",
    "       st = set([x for x in efficacy if pd.isnull(x) == False and x != \"nan\"])\n",
    "       efficacy_set.update(st)#update\n",
    "    return efficacy_set\n",
    "\n",
    "efficacy_set = generate_efficacy_set(df_complete)\n",
    "print(efficacy_set)\n",
    "dic_eff_pmid = {}\n",
    "dic_eff_len = {}\n",
    "\n",
    "for efficacy in efficacy_set:\n",
    "   df_screened = df_complete[(df_complete[\"efficacy1\"] == efficacy)|(df_complete[\"efficacy2\"] == efficacy)|(df_complete[\"efficacy3\"] == efficacy)|(df_complete[\"efficacy4\"] == efficacy)|(df_complete[\"efficacy5\"] == efficacy)|(df_complete[\"efficacy6\"] == efficacy)|(df_complete[\"efficacy7\"] == efficacy)|(df_complete[\"efficacy8\"] == efficacy)]\n",
    "   pmid_set=set()\n",
    "   for index, line in df_screened.iterrows():\n",
    "      pmid_set.update(set([f\"{x:.0f}\" for x in line[11:] if pd.isnull(x) == False and x != \"nan\"]))\n",
    "   print(\"===========\")\n",
    "   print(efficacy)\n",
    "   print(len(pmid_set))\n",
    "   print(pmid_set)\n",
    "   print(\"===========\")\n",
    "   dic_eff_pmid[efficacy]=pmid_set#key = efficacy, values=PMID set\n",
    "   dic_eff_len[efficacy]=len(pmid_set)#key = efficacy, values=PMID set\n",
    "\n",
    "df_efficacy_pmid = pd.DataFrame(dic_eff_pmid.values(),index=dic_eff_pmid.keys())\n",
    "df_efficacy_len = pd.DataFrame(dic_eff_len.values(),index=dic_eff_pmid.keys(),columns=[\"Amount\"])\n",
    "df_efficacy_len_pmid = pd.concat([df_efficacy_len,df_efficacy_pmid],axis=1)\n",
    "display(df_efficacy_len_pmid)\n",
    "df_efficacy_len_pmid.to_csv(\"../Files/Figure2/Table4.csv\")\n"
   ]
  }
 ],
 "metadata": {
  "kernelspec": {
   "display_name": "base",
   "language": "python",
   "name": "python3"
  },
  "language_info": {
   "codemirror_mode": {
    "name": "ipython",
    "version": 3
   },
   "file_extension": ".py",
   "mimetype": "text/x-python",
   "name": "python",
   "nbconvert_exporter": "python",
   "pygments_lexer": "ipython3",
   "version": "3.9.12"
  },
  "vscode": {
   "interpreter": {
    "hash": "af034507c1b97134fe3199f2364f9cb32fe7dc453cfd3a79189cc6de37914607"
   }
  }
 },
 "nbformat": 4,
 "nbformat_minor": 5
}
